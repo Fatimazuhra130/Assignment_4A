{
 "cells": [
  {
   "cell_type": "code",
   "execution_count": 1,
   "metadata": {},
   "outputs": [
    {
     "name": "stdout",
     "output_type": "stream",
     "text": [
      "One of my favorite books is 'Alice in Wonderland'.\n",
      "One of my favorite books is 'You can win '.\n"
     ]
    }
   ],
   "source": [
    "\"Question#4\"\n",
    "'''Write a function called favorite_book() that accepts one parameter, title. \n",
    "The function should print a message, such as One of my favorite books is Alice in Wonderland. \n",
    "Call the function, making sure to include a book title as an argument in the function call'''\n",
    "\n",
    "def favorite_book(title):\n",
    "    print(f\"One of my favorite books is '{title}'.\")\n",
    "    \n",
    "favorite_book(\"Alice in Wonderland\")\n",
    "favorite_book(\"You can win \")"
   ]
  },
  {
   "cell_type": "code",
   "execution_count": null,
   "metadata": {},
   "outputs": [
    {
     "name": "stdout",
     "output_type": "stream",
     "text": [
      "Guess a number one through one hundred: 400\n",
      "too high\n",
      "Guess a number one through one hundred: 12\n",
      "too low\n"
     ]
    }
   ],
   "source": [
    "\"Question#5\"\n",
    "from random import randint\n",
    "it = randint(0, 101)\n",
    "def guess():\n",
    "    while True:\n",
    "        x = int(input('Guess a number one through one hundred: '))\n",
    "        if x == it:\n",
    "            print(\"You got it!\")\n",
    "            break\n",
    "        elif x > it:\n",
    "            print(\"too high\")\n",
    "        else:\n",
    "            print(\"too low\")\n",
    "guess()"
   ]
  },
  {
   "cell_type": "code",
   "execution_count": null,
   "metadata": {},
   "outputs": [],
   "source": []
  }
 ],
 "metadata": {
  "kernelspec": {
   "display_name": "Python 3",
   "language": "python",
   "name": "python3"
  },
  "language_info": {
   "codemirror_mode": {
    "name": "ipython",
    "version": 3
   },
   "file_extension": ".py",
   "mimetype": "text/x-python",
   "name": "python",
   "nbconvert_exporter": "python",
   "pygments_lexer": "ipython3",
   "version": "3.7.4"
  }
 },
 "nbformat": 4,
 "nbformat_minor": 2
}
